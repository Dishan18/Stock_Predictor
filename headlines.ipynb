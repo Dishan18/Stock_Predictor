{
 "cells": [
  {
   "cell_type": "code",
   "execution_count": 1,
   "metadata": {},
   "outputs": [],
   "source": [
    "from bs4 import BeautifulSoup\n",
    "from urllib.request import urlopen, Request"
   ]
  },
  {
   "cell_type": "code",
   "execution_count": 2,
   "metadata": {},
   "outputs": [],
   "source": [
    "tickertape_url = \"https://www.tickertape.in/stocks/\"\n",
    "tickers = ['PNBK','MRF','RAIV','NTPC']\n",
    "news_headlines = {}"
   ]
  },
  {
   "cell_type": "code",
   "execution_count": 3,
   "metadata": {},
   "outputs": [],
   "source": [
    "for ticker in tickers:\n",
    "    url = tickertape_url + ticker\n",
    "    req = Request(url=url, headers={'user-agent': 'my-app'})\n",
    "    response = urlopen(req)\n",
    "    html = BeautifulSoup(response, 'html.parser')\n",
    "\n",
    "    news_tab = html.find(id='news-tab')\n",
    "    if news_tab:\n",
    "        headlines = [headline.text for headline in news_tab.find_all(\n",
    "            'span', class_='jsx-1669302504 text-primary headline mb8 heading')]\n",
    "        news_headlines[ticker] = headlines"
   ]
  },
  {
   "cell_type": "code",
   "execution_count": 4,
   "metadata": {},
   "outputs": [
    {
     "data": {
      "text/plain": [
       "{'PNBK': ['Punjab National Bank consolidated net profit rises 97.35% in the December 2024 quarter',\n",
       "  'Punjab National Bank rallies as Q3 PAT doubles to Rs 4,508 crore',\n",
       "  'Punjab National Bank to convene board meeting',\n",
       "  'PNB rises as domestic deposits climb 14% YoY in Q3 FY25',\n",
       "  'Punjab National Bank announces cessation of MD & CEO',\n",
       "  'Punjab National Bank receives affirmation in credit ratings',\n",
       "  'Punjab National Bank up for third straight session',\n",
       "  'Punjab National Bank consolidated net profit rises 136.87% in the September 2024 quarter',\n",
       "  'Punjab National Bank announces board meeting date',\n",
       "  'Punjab National Bank launches QIP; floor price at Rs 109.16 /share'],\n",
       " 'MRF': ['Board of MRF recommends 2nd interim dividend',\n",
       "  'MRF fixes record date for 2nd interim dividend',\n",
       "  'MRF hits 52-week low after Q3 PAT slumps 38% YoY to Rs 315 cr',\n",
       "  'MRF consolidated net profit declines 38.11% in the December 2024 quarter',\n",
       "  'MRF to declare Quarterly Results',\n",
       "  'Healthcare stocks edge lower',\n",
       "  'Information Technology  shares slide',\n",
       "  'Banking stocks edge lower',\n",
       "  'MRF Ltd drops for fifth straight session',\n",
       "  'MRF Ltd drops for fifth straight session'],\n",
       " 'RAIV': ['Rail Vikas Nigam revises board meeting date',\n",
       "  'Rail Vikas Nigam to announce Quarterly Result',\n",
       "  'RVNL bags Koratpur-Singapur road doubling project worth Rs 404 cr',\n",
       "  'Rail Vikas Nigam announces Striking Off of Dighi Roha Rail',\n",
       "  'RVNL sizzles after receiving LoA for Rs 9,613-crore project from BSNL',\n",
       "  'RVNL edges higher after receiving LoA for Rs 3,622-crore project from BSNL',\n",
       "  'Rail Vikas Nigam Ltd Slips 1.75%',\n",
       "  'RVNL signs MoU with Dubai-based GBHIC',\n",
       "  'Visakhapatnam Port Authority signs MoU with RVNL',\n",
       "  'RVNL ralllies on bagging Rs 404-cr order from East Coast Railway'],\n",
       " 'NTPC': ['NTPC receives favourable judgement from Delhi High Court',\n",
       "  'NTPC slides as Q3 PAT decline 2% YoY to Rs 5,063 cr',\n",
       "  'NTPC consolidated net profit declines 1.80% in the December 2024 quarter',\n",
       "  'Board of NTPC recommends second interim dividend',\n",
       "  'NTPC commissions Unit 1 (660 MW) of Khurja STPP',\n",
       "  'NTPC to hold board meeting',\n",
       "  'NTPC Ltd soars 2.96%, rises for fifth straight session',\n",
       "  'NTPC commissions further 25 MW of Gujarat Solar PV Project in Sadla, Gujarat',\n",
       "  'NTPC Ltd soars 1.48%, Gains for third straight session',\n",
       "  'NTPC commissions two solar projects aggregating 110 MW']}"
      ]
     },
     "execution_count": 4,
     "metadata": {},
     "output_type": "execute_result"
    }
   ],
   "source": [
    "news_headlines"
   ]
  }
 ],
 "metadata": {
  "kernelspec": {
   "display_name": "Python 3",
   "language": "python",
   "name": "python3"
  },
  "language_info": {
   "codemirror_mode": {
    "name": "ipython",
    "version": 3
   },
   "file_extension": ".py",
   "mimetype": "text/x-python",
   "name": "python",
   "nbconvert_exporter": "python",
   "pygments_lexer": "ipython3",
   "version": "3.11.0"
  }
 },
 "nbformat": 4,
 "nbformat_minor": 2
}
