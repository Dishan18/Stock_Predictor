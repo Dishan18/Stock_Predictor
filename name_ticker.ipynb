{
 "cells": [
  {
   "cell_type": "code",
   "execution_count": 2,
   "metadata": {},
   "outputs": [],
   "source": [
    "import pandas as pd\n",
    "import numpy as np"
   ]
  },
  {
   "cell_type": "code",
   "execution_count": 3,
   "metadata": {},
   "outputs": [
    {
     "data": {
      "text/html": [
       "<div>\n",
       "<style scoped>\n",
       "    .dataframe tbody tr th:only-of-type {\n",
       "        vertical-align: middle;\n",
       "    }\n",
       "\n",
       "    .dataframe tbody tr th {\n",
       "        vertical-align: top;\n",
       "    }\n",
       "\n",
       "    .dataframe thead th {\n",
       "        text-align: right;\n",
       "    }\n",
       "</style>\n",
       "<table border=\"1\" class=\"dataframe\">\n",
       "  <thead>\n",
       "    <tr style=\"text-align: right;\">\n",
       "      <th></th>\n",
       "      <th>Date</th>\n",
       "      <th>Stock</th>\n",
       "      <th>Open</th>\n",
       "      <th>High</th>\n",
       "      <th>Low</th>\n",
       "      <th>Close</th>\n",
       "      <th>Volume</th>\n",
       "      <th>Change Pct</th>\n",
       "    </tr>\n",
       "  </thead>\n",
       "  <tbody>\n",
       "    <tr>\n",
       "      <th>0</th>\n",
       "      <td>2013-01-02</td>\n",
       "      <td>20MICRONS</td>\n",
       "      <td>80.35</td>\n",
       "      <td>80.55</td>\n",
       "      <td>77.50</td>\n",
       "      <td>77.80</td>\n",
       "      <td>1088880</td>\n",
       "      <td>-3.23</td>\n",
       "    </tr>\n",
       "    <tr>\n",
       "      <th>1</th>\n",
       "      <td>2013-01-03</td>\n",
       "      <td>20MICRONS</td>\n",
       "      <td>78.58</td>\n",
       "      <td>79.78</td>\n",
       "      <td>76.00</td>\n",
       "      <td>76.40</td>\n",
       "      <td>590180</td>\n",
       "      <td>-1.80</td>\n",
       "    </tr>\n",
       "    <tr>\n",
       "      <th>2</th>\n",
       "      <td>2013-01-04</td>\n",
       "      <td>20MICRONS</td>\n",
       "      <td>76.50</td>\n",
       "      <td>77.25</td>\n",
       "      <td>75.50</td>\n",
       "      <td>75.83</td>\n",
       "      <td>380850</td>\n",
       "      <td>-0.75</td>\n",
       "    </tr>\n",
       "    <tr>\n",
       "      <th>3</th>\n",
       "      <td>2013-01-07</td>\n",
       "      <td>20MICRONS</td>\n",
       "      <td>76.88</td>\n",
       "      <td>78.00</td>\n",
       "      <td>74.00</td>\n",
       "      <td>74.90</td>\n",
       "      <td>1144204</td>\n",
       "      <td>-1.23</td>\n",
       "    </tr>\n",
       "    <tr>\n",
       "      <th>4</th>\n",
       "      <td>2013-01-08</td>\n",
       "      <td>20MICRONS</td>\n",
       "      <td>74.97</td>\n",
       "      <td>75.97</td>\n",
       "      <td>74.25</td>\n",
       "      <td>75.28</td>\n",
       "      <td>605020</td>\n",
       "      <td>0.51</td>\n",
       "    </tr>\n",
       "  </tbody>\n",
       "</table>\n",
       "</div>"
      ],
      "text/plain": [
       "         Date      Stock   Open   High    Low  Close   Volume  Change Pct\n",
       "0  2013-01-02  20MICRONS  80.35  80.55  77.50  77.80  1088880       -3.23\n",
       "1  2013-01-03  20MICRONS  78.58  79.78  76.00  76.40   590180       -1.80\n",
       "2  2013-01-04  20MICRONS  76.50  77.25  75.50  75.83   380850       -0.75\n",
       "3  2013-01-07  20MICRONS  76.88  78.00  74.00  74.90  1144204       -1.23\n",
       "4  2013-01-08  20MICRONS  74.97  75.97  74.25  75.28   605020        0.51"
      ]
     },
     "execution_count": 3,
     "metadata": {},
     "output_type": "execute_result"
    }
   ],
   "source": [
    "df = pd.read_csv('stocks_df.csv')\n",
    "df.head()"
   ]
  },
  {
   "cell_type": "code",
   "execution_count": 4,
   "metadata": {},
   "outputs": [
    {
     "name": "stdout",
     "output_type": "stream",
     "text": [
      "         Stock\n",
      "0    20MICRONS\n",
      "1   21STCENMGM\n",
      "2    3IINFOLTD\n",
      "3      3MINDIA\n",
      "4       3PLAND\n",
      "..         ...\n",
      "95        ANUP\n",
      "96      ANURAS\n",
      "97    APARINDS\n",
      "98        APCL\n",
      "99  APCOTEXIND\n",
      "\n",
      "[100 rows x 1 columns]\n"
     ]
    }
   ],
   "source": [
    "columns_to_keep = [\"Stock\"]\n",
    "df = df[columns_to_keep]  # Keep only the required column\n",
    "\n",
    "unique_stocks = df['Stock'].unique()  # Get unique stock names\n",
    "\n",
    "df_unique = pd.DataFrame(unique_stocks, columns=['Stock'])  # Convert to DataFrame\n",
    "\n",
    "print(df_unique.head(100))  # Display first 100 rows\n"
   ]
  },
  {
   "cell_type": "code",
   "execution_count": 5,
   "metadata": {},
   "outputs": [],
   "source": [
    "df_unique.to_csv('name.csv', index=False)"
   ]
  },
  {
   "cell_type": "code",
   "execution_count": 6,
   "metadata": {},
   "outputs": [
    {
     "data": {
      "text/plain": [
       "(1749, 1)"
      ]
     },
     "execution_count": 6,
     "metadata": {},
     "output_type": "execute_result"
    }
   ],
   "source": [
    "df_unique.shape"
   ]
  },
  {
   "cell_type": "code",
   "execution_count": null,
   "metadata": {},
   "outputs": [],
   "source": []
  }
 ],
 "metadata": {
  "kernelspec": {
   "display_name": "Python 3",
   "language": "python",
   "name": "python3"
  },
  "language_info": {
   "codemirror_mode": {
    "name": "ipython",
    "version": 3
   },
   "file_extension": ".py",
   "mimetype": "text/x-python",
   "name": "python",
   "nbconvert_exporter": "python",
   "pygments_lexer": "ipython3",
   "version": "3.11.9"
  }
 },
 "nbformat": 4,
 "nbformat_minor": 2
}
